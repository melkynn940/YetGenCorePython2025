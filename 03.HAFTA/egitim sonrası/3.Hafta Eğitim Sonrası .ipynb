{
 "cells": [
  {
   "cell_type": "markdown",
   "metadata": {
    "id": "iynMkzK2ozgo"
   },
   "source": [
    "# Problem 1\n",
    "Kullanıcıdan bir sayı alınız. Sayı 0'dan büyükse pozitif , 0'dan küçükse negatif sıfıra eşitse sıfır yazdırınız."
   ]
  },
  {
   "cell_type": "code",
   "execution_count": 1,
   "metadata": {
    "id": "Y5eMYyiOozgw"
   },
   "outputs": [
    {
     "name": "stdout",
     "output_type": "stream",
     "text": [
      "Pozitif\n"
     ]
    }
   ],
   "source": [
    "sayi=float(input(\"Sayı giriniz:\"))\n",
    "if sayi>0:\n",
    "    print(\"Pozitif\")\n",
    "elif sayi==0:\n",
    "    print(\"Sıfır\")\n",
    "elif sayi<0:\n",
    "    print(\"Negatif\")"
   ]
  },
  {
   "cell_type": "markdown",
   "metadata": {
    "id": "gUrFd7pgozgz"
   },
   "source": [
    " # Problem 2\n",
    "Kullanıcıdan aldığınız bir sayının mükemmel olup olmadığını bulmaya çalışın.\n",
    "Bir sayının kendi hariç bölenlerinin toplamı kendine eşitse bu sayıya \"mükemmel sayı\" denir. Örnek olarak, 6 mükemmel bir sayıdır. (1 + 2 + 3 = 6)\n"
   ]
  },
  {
   "cell_type": "code",
   "execution_count": 16,
   "metadata": {
    "id": "Oc8lAzLaozg0"
   },
   "outputs": [
    {
     "name": "stdout",
     "output_type": "stream",
     "text": [
      "6 mükemmeldir\n"
     ]
    }
   ],
   "source": [
    "sayi=int(input(\"Sayı giriniz:\"))\n",
    "toplam=0\n",
    "for i in range(1,sayi):\n",
    "    if sayi%i==0:\n",
    "        toplam+=i\n",
    "        \n",
    "if toplam==sayi:\n",
    "    print(f\"{sayi} mükemmeldir\")\n",
    "else:\n",
    "    print(sayi,\"Mükemmel değildir.\")\n",
    "\n"
   ]
  },
  {
   "cell_type": "markdown",
   "metadata": {
    "id": "wU080UMcozg1"
   },
   "source": [
    " # Problem 3\n",
    "Kullanıcıdan aldığınız bir sayının \"Armstrong\" sayısı olup olmadığını bulmaya çalışın.\n",
    "Örnek olarak, Bir sayı eğer 4 basamaklı ise ve oluşturan rakamlardan herbirinin 4. kuvvetinin toplamı( 3 basamaklı sayılar için 3.kuvveti ) o sayıya eşitse bu sayıya \"Armstrong\" sayısı denir.\n",
    "\n",
    "Örnek olarak : 1634 = 1^4 + 6^4 + 3^4 + 4^4"
   ]
  },
  {
   "cell_type": "code",
   "execution_count": 23,
   "metadata": {},
   "outputs": [
    {
     "name": "stdout",
     "output_type": "stream",
     "text": [
      "Bu Bir Armstrong Sayısıdır.\n"
     ]
    }
   ],
   "source": [
    "sayi = int(input(\"Sayıyı Giriniz:\"))\n",
    "basamak = str(sayi)\n",
    "toplam=0\n",
    "for x in basamak:\n",
    "  rakam = int(x)**len(basamak)\n",
    "  toplam += rakam\n",
    "if(sayi == toplam):\n",
    "  print(\"Bu Bir Armstrong Sayısıdır.\")\n",
    "else:\n",
    "  print(\"Bu bir Armstong Sayısı Degildir.\")"
   ]
  },
  {
   "cell_type": "markdown",
   "metadata": {
    "id": "4hSmU3Yoozg4"
   },
   "source": [
    "# Problem 4\n",
    "YetGen Core Python mezunu bir öğretmenimiz öğrencilerine 1'den 10'a kadar sayılarla çarpım tablosunu öğretirken Python'dan destek almak istiyor. Bu konuda öğretmenimize yardımcı olmak ister misin?\n",
    "\n",
    "İpucu: İç içe 2 tane for döngüsü kullanın. \n",
    "\n",
    "Aynı zamanda sayıları range() fonksiyonunu kullanarak elde edin."
   ]
  },
  {
   "cell_type": "code",
   "execution_count": 55,
   "metadata": {
    "id": "WsDvmcXgozg5"
   },
   "outputs": [
    {
     "name": "stdout",
     "output_type": "stream",
     "text": [
      "1 'ler\n",
      "1 x 1 = 10\n",
      "1 x 2 = 10\n",
      "1 x 3 = 10\n",
      "1 x 4 = 10\n",
      "1 x 5 = 10\n",
      "1 x 6 = 10\n",
      "1 x 7 = 10\n",
      "1 x 8 = 10\n",
      "1 x 9 = 10\n",
      "1 x 10 = 10\n",
      "2 'ler\n",
      "2 x 1 = 20\n",
      "2 x 2 = 20\n",
      "2 x 3 = 20\n",
      "2 x 4 = 20\n",
      "2 x 5 = 20\n",
      "2 x 6 = 20\n",
      "2 x 7 = 20\n",
      "2 x 8 = 20\n",
      "2 x 9 = 20\n",
      "2 x 10 = 20\n",
      "3 'ler\n",
      "3 x 1 = 30\n",
      "3 x 2 = 30\n",
      "3 x 3 = 30\n",
      "3 x 4 = 30\n",
      "3 x 5 = 30\n",
      "3 x 6 = 30\n",
      "3 x 7 = 30\n",
      "3 x 8 = 30\n",
      "3 x 9 = 30\n",
      "3 x 10 = 30\n",
      "4 'ler\n",
      "4 x 1 = 40\n",
      "4 x 2 = 40\n",
      "4 x 3 = 40\n",
      "4 x 4 = 40\n",
      "4 x 5 = 40\n",
      "4 x 6 = 40\n",
      "4 x 7 = 40\n",
      "4 x 8 = 40\n",
      "4 x 9 = 40\n",
      "4 x 10 = 40\n",
      "5 'ler\n",
      "5 x 1 = 50\n",
      "5 x 2 = 50\n",
      "5 x 3 = 50\n",
      "5 x 4 = 50\n",
      "5 x 5 = 50\n",
      "5 x 6 = 50\n",
      "5 x 7 = 50\n",
      "5 x 8 = 50\n",
      "5 x 9 = 50\n",
      "5 x 10 = 50\n",
      "6 'ler\n",
      "6 x 1 = 60\n",
      "6 x 2 = 60\n",
      "6 x 3 = 60\n",
      "6 x 4 = 60\n",
      "6 x 5 = 60\n",
      "6 x 6 = 60\n",
      "6 x 7 = 60\n",
      "6 x 8 = 60\n",
      "6 x 9 = 60\n",
      "6 x 10 = 60\n",
      "7 'ler\n",
      "7 x 1 = 70\n",
      "7 x 2 = 70\n",
      "7 x 3 = 70\n",
      "7 x 4 = 70\n",
      "7 x 5 = 70\n",
      "7 x 6 = 70\n",
      "7 x 7 = 70\n",
      "7 x 8 = 70\n",
      "7 x 9 = 70\n",
      "7 x 10 = 70\n",
      "8 'ler\n",
      "8 x 1 = 80\n",
      "8 x 2 = 80\n",
      "8 x 3 = 80\n",
      "8 x 4 = 80\n",
      "8 x 5 = 80\n",
      "8 x 6 = 80\n",
      "8 x 7 = 80\n",
      "8 x 8 = 80\n",
      "8 x 9 = 80\n",
      "8 x 10 = 80\n",
      "9 'ler\n",
      "9 x 1 = 90\n",
      "9 x 2 = 90\n",
      "9 x 3 = 90\n",
      "9 x 4 = 90\n",
      "9 x 5 = 90\n",
      "9 x 6 = 90\n",
      "9 x 7 = 90\n",
      "9 x 8 = 90\n",
      "9 x 9 = 90\n",
      "9 x 10 = 90\n",
      "10 'ler\n",
      "10 x 1 = 100\n",
      "10 x 2 = 100\n",
      "10 x 3 = 100\n",
      "10 x 4 = 100\n",
      "10 x 5 = 100\n",
      "10 x 6 = 100\n",
      "10 x 7 = 100\n",
      "10 x 8 = 100\n",
      "10 x 9 = 100\n",
      "10 x 10 = 100\n"
     ]
    }
   ],
   "source": [
    "for i in range(1,11):\n",
    "    print(i,\"'ler\")\n",
    "    for x in range(1,11):\n",
    "        print(i,\"x\", x,\"=\",i*k)\n"
   ]
  },
  {
   "cell_type": "markdown",
   "metadata": {
    "id": "jJpAhNPtozg7"
   },
   "source": [
    "# Problem 5\n",
    "Markete giren bir YetGen'li sıra beklememek için hızlı kasaya gider. Hızlı kasanın çalışma mantığı şu şekildedir:\n",
    "- Kullanıcının aldığı her ürünün fiyatını tek tek girmesi gerekir.\n",
    "- Kullanıcı kasadan çıkmak isterse q tuşuna basmalıdır.\n",
    "- Kasa girilen fiyatları son fiyat isimli değişkene ekler.\n",
    "- Değişkeni ekrana bastırır.\n",
    "\n",
    "İpucu: while döngüsünü sonsuz koşulla başlatın ve kullanıcı q'ya basarsa döngüyü break ile sonlandırın."
   ]
  },
  {
   "cell_type": "code",
   "execution_count": 53,
   "metadata": {},
   "outputs": [
    {
     "name": "stdout",
     "output_type": "stream",
     "text": [
      "Toplam tutar 2.0\n",
      "Toplam tutar 5.0\n",
      "Toplam tutar 9.0\n"
     ]
    }
   ],
   "source": [
    "son_fiyat=0\n",
    "while True:\n",
    "    fiyat=input(\"Ürün fiyatını giriniz:\")\n",
    "    if fiyat==\"q\":\n",
    "        break\n",
    "    fiyat=float(fiyat)\n",
    "    son_fiyat+=fiyat\n",
    "    print(\"Toplam tutar:\",son_fiyat)\n",
    "    \n",
    "\n",
    "\n"
   ]
  },
  {
   "cell_type": "markdown",
   "metadata": {
    "id": "lqJyFt_Eozg-"
   },
   "source": [
    "# Problem 6\n",
    "1'den 100'e kadar olan sayılardan sadece 3'e bölünen sayıları ekrana bastırın. Bu işlemi continue ile yapmaya çalışın."
   ]
  },
  {
   "cell_type": "code",
   "execution_count": 30,
   "metadata": {
    "id": "0ZVgZqAQozg_"
   },
   "outputs": [
    {
     "name": "stdout",
     "output_type": "stream",
     "text": [
      "0\n",
      "3\n",
      "6\n",
      "9\n",
      "12\n",
      "15\n",
      "18\n",
      "21\n",
      "24\n",
      "27\n",
      "30\n",
      "33\n",
      "36\n",
      "39\n",
      "42\n",
      "45\n",
      "48\n",
      "51\n",
      "54\n",
      "57\n",
      "60\n",
      "63\n",
      "66\n",
      "69\n",
      "72\n",
      "75\n",
      "78\n",
      "81\n",
      "84\n",
      "87\n",
      "90\n",
      "93\n",
      "96\n",
      "99\n"
     ]
    }
   ],
   "source": [
    "for i in range(100):\n",
    "    if i%3!=0:\n",
    "        continue\n",
    "    print(i)\n",
    "        "
   ]
  },
  {
   "cell_type": "markdown",
   "metadata": {
    "id": "eA2r49EjozhA"
   },
   "source": [
    "# Problem 7\n",
    "Bir YetGen Core Python mezunu MEF Üniversitesi'nde Bilgisayar Bilimleri Doktora programının mülakatına girmeye hak kazanıyor. Mülakata hazırlanırken internetten soru araştırıyor. Karşısına çıkan ünlü FizzBuzz sorusuna benzer YetGen sorusunda kendisini yeterince hazır hissetmiyor. Bu soruyu çözmesine destek olmak ister misin?\n",
    "\n",
    "Soru aşağıdaki gibidir:\n",
    "\n",
    "1’den 100’e kadar sayıları yazdırıyoruz. Ancak eğer sayı 3’e bölünüyor ise Yet, sayı 5’e bölünüyorsa Gen, hem 3’e hem 5’e bölünüyorsa YetGen yazdırıyoruz."
   ]
  },
  {
   "cell_type": "code",
   "execution_count": 27,
   "metadata": {
    "id": "Q3H7p6vnozhB"
   },
   "outputs": [
    {
     "name": "stdout",
     "output_type": "stream",
     "text": [
      "0 YetGen\n",
      "3 Yet\n",
      "5 Gen\n",
      "6 Yet\n",
      "9 Yet\n",
      "10 Gen\n",
      "12 Yet\n",
      "15 YetGen\n",
      "18 Yet\n",
      "20 Gen\n",
      "21 Yet\n",
      "24 Yet\n",
      "25 Gen\n",
      "27 Yet\n",
      "30 YetGen\n",
      "33 Yet\n",
      "35 Gen\n",
      "36 Yet\n",
      "39 Yet\n",
      "40 Gen\n",
      "42 Yet\n",
      "45 YetGen\n",
      "48 Yet\n",
      "50 Gen\n",
      "51 Yet\n",
      "54 Yet\n",
      "55 Gen\n",
      "57 Yet\n",
      "60 YetGen\n",
      "63 Yet\n",
      "65 Gen\n",
      "66 Yet\n",
      "69 Yet\n",
      "70 Gen\n",
      "72 Yet\n",
      "75 YetGen\n",
      "78 Yet\n",
      "80 Gen\n",
      "81 Yet\n",
      "84 Yet\n",
      "85 Gen\n",
      "87 Yet\n",
      "90 YetGen\n",
      "93 Yet\n",
      "95 Gen\n",
      "96 Yet\n",
      "99 Yet\n"
     ]
    }
   ],
   "source": [
    "for i in range (100):\n",
    "    if i%15==0:\n",
    "        print(i,\"YetGen\")\n",
    "    elif i%3==0:\n",
    "        print(i,\"Yet\")\n",
    "    elif i%5==0:\n",
    "        print(i,\"Gen\")\n",
    "    \n"
   ]
  }
 ],
 "metadata": {
  "colab": {
   "provenance": []
  },
  "kernelspec": {
   "display_name": "Python 3",
   "language": "python",
   "name": "python3"
  },
  "language_info": {
   "codemirror_mode": {
    "name": "ipython",
    "version": 3
   },
   "file_extension": ".py",
   "mimetype": "text/x-python",
   "name": "python",
   "nbconvert_exporter": "python",
   "pygments_lexer": "ipython3",
   "version": "3.13.2"
  },
  "orig_nbformat": 4
 },
 "nbformat": 4,
 "nbformat_minor": 0
}
