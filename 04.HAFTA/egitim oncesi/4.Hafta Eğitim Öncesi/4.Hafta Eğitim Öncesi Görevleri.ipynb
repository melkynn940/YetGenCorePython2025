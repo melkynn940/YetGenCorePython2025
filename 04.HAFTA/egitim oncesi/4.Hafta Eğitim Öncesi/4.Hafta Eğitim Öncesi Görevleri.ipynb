{
 "cells": [
  {
   "cell_type": "markdown",
   "metadata": {
    "id": "-My6RWLrhXIq"
   },
   "source": [
    "# Problem 1\n",
    "Sözlükleri kullanarak bir telefon rehberi yazın. Bu rehberde kullanıcıya kimin telefonunu görüntülemek istediğini sorun ve kullanıcının girdiği isme göre o kişinin telefon numarasını yazdırın. Proje sonunda elde edeceğiniz çıktı  şuna benzer olmalı:\n",
    "\n",
    "\n",
    "Lütfen numarasını öğrenmek istediğiniz kişinin adını girin: Ahmet\n",
    "\n",
    "Ahmet isimli kişinin numarası şu şekildedir: 0532 678 13 19"
   ]
  },
  {
   "cell_type": "code",
   "execution_count": 12,
   "metadata": {
    "id": "LHIQEhchhXIu"
   },
   "outputs": [
    {
     "name": "stdout",
     "output_type": "stream",
     "text": [
      "Melek isimli kişinin numarası şu şekildedir: 0544 291 9239\n"
     ]
    }
   ],
   "source": [
    "sözlük={\"Melek\":\"0544 291 9239\",\n",
    "         \"Ayşe\":\"0532 567 3458\",\n",
    "         \"Ali\":\"0546 742 7976\",}\n",
    "isim=(input(\"Lütfen numarasını öğrenmek istediğiniz kişinin adını girin:\"))\n",
    "print(isim,\"isimli kişinin numarası şu şekildedir:\",sözlük[isim])\n",
    "\n"
   ]
  },
  {
   "cell_type": "markdown",
   "metadata": {
    "id": "rlgfjEi7hXIv"
   },
   "source": [
    "# Problem 2\n",
    "Sözlükleri kullanarak bir şirket çalışanları indeksi oluşturun. Bu isim indeksinde kişilerin isimleri key, kişilerin  memleket, yaş ve görev bilgileri value olmalıdır. Burada kullanacağımız value değerleri liste olmalıdır.\n",
    "\n",
    "\n",
    "Daha sonra bir isim sorgulama ekranı gibi kullanıcıya kimin bilgilerini görüntülemek istediğini \n",
    "sorun ve sorgulanan kişinin ekranda gösterilmesini sağlayın. Proje sonunda elde edeceğiniz çıktı şu şekilde olmalı:\n",
    "\n",
    "\n",
    "Lütfen bilgilerini görüntülemek istediğiniz çalışanın ismini girin: Mehmet Yağız\n",
    "\n",
    "Mehmet Yağız= Memleket: Adana Yaş: 40 Görev: Direktör"
   ]
  },
  {
   "cell_type": "code",
   "execution_count": 17,
   "metadata": {},
   "outputs": [
    {
     "name": "stdout",
     "output_type": "stream",
     "text": [
      "Melek Köymen=Memleket:Yalova Yaş:30 Görev:Mühendis\n"
     ]
    }
   ],
   "source": [
    "calisanlar={\n",
    "    \"Mehmet Yağız\":[\"Adana\",40,\"Direktör\"],\n",
    "    \"Melek Köymen\":[\"Yalova\",30,\"Mühendis\"],\n",
    "    \"Ayşe Yılmaz\":[\"Ankara\",35,\"Müdür\"],\n",
    "}\n",
    "isim=input(\"Lütfen bilgilerini görüntülemek istediğiniz çalışanın ismini girin:\")\n",
    "çıktı=calisanlar[isim]\n",
    "print(f\"{isim}=Memleket:{çıktı[0]} Yaş:{çıktı[1]} Görev:{çıktı[2]}\")"
   ]
  },
  {
   "cell_type": "markdown",
   "metadata": {
    "id": "G67ztXG-hXIw"
   },
   "source": [
    "# Problem 3\n",
    "\n",
    "3 öğrenciden oluşan bir öğrenci not sözlüğü oluşturun. Bu sözlükte öğrencilerin notları value olarak bir listede toplansın.\n",
    "\n",
    "Kullanıcıya hangi öğrencinin notlarını görmek istediğini sorun. Öğrencinin notu görüntülendiğinde program sonunda şöyle bir çıktı elde etmelisiniz:\n",
    "\n",
    "```\n",
    "Lütfen notlarını görmek istediğiniz öğrencinin adını girin: Mehmet\n",
    "\n",
    "Mehmet isimli öğrencinin      1.Sınav Notu:72\n",
    "                              2.Sınav Notu:66\n",
    "                              3.Sınav Notu:48\n",
    "Not Ortalaması: 62.0\n"
   ]
  },
  {
   "cell_type": "code",
   "execution_count": 1,
   "metadata": {
    "id": "TXQ_fuCHhXIw"
   },
   "outputs": [
    {
     "name": "stdout",
     "output_type": "stream",
     "text": [
      "Alper isimli öğrencinin 1.sınav notu:100 2.sınav notu:90 3.sınav notu:90\n",
      "Not ortalaması: 93.33333333333333\n"
     ]
    }
   ],
   "source": [
    "öğrenciler={\"Ayşe\":[40,90,70],\n",
    "            \"Efe\":[90,80,70],\n",
    "            \"Alper\":[100,90,90],}\n",
    "isim=input(\"Lütfen notlarını görmek istediğinin öğrencinin adını girin:\")\n",
    "sonuç=öğrenciler[isim]\n",
    "print(f\"{isim} isimli öğrencinin 1.sınav notu:{sonuç[0]} 2.sınav notu:{sonuç[1]} 3.sınav notu:{sonuç[2]}\")\n",
    "print( \"Not ortalaması:\",(sonuç[0]+sonuç[1]+sonuç[2])/3)"
   ]
  },
  {
   "cell_type": "markdown",
   "metadata": {
    "id": "oel6A5WFhXIw"
   },
   "source": [
    "# Problem 4"
   ]
  },
  {
   "cell_type": "code",
   "execution_count": 29,
   "metadata": {
    "id": "jVRdspCrhXIx"
   },
   "outputs": [
    {
     "name": "stdout",
     "output_type": "stream",
     "text": [
      "4\n",
      "Bmw\n",
      "Mazda\n",
      "Opel\n",
      "Bmw\n",
      "Mercedes\n",
      "Opel\n",
      "['Bmw', 'Mercedes', 'Toyota', 'Renault', 'Audi', 'Nissan']\n",
      "['Toyota', 'Mercedes', 'Bmw']\n",
      "['Yiğit', 'Bilgi', 2010, [70, 60, 70]]\n",
      "['Sena', 'Turan', 1999, [80, 80, 70]]\n",
      "['Ahmet', 'Turan', 1998, [80, 70, 90]]\n"
     ]
    }
   ],
   "source": [
    "liste=[\"Bmw\", \"Mercedes\", \"Opel\", \"Mazda\"]\n",
    "\n",
    "print(len(liste))\n",
    "\n",
    "print(liste[0])\n",
    "print(liste[-1])\n",
    "\n",
    "liste[-1]=\"Toyota\"\n",
    "\n",
    "print(liste[-2])\n",
    "\n",
    "print(liste[0])\n",
    "print(liste[1])\n",
    "print(liste[2])\n",
    "\n",
    "liste[-2:]=[\"Toyota\",\"Renault\"]\n",
    "\n",
    "print(liste+[\"Audi\",\"Nissan\"])\n",
    "\n",
    "del liste[-1]\n",
    "\n",
    "print(liste[::-1])\n",
    "\n",
    "studentA = ['Yiğit','Bilgi',2010,[70,60,70]]\n",
    "studentB = ['Sena','Turan',1999,[80,80,70]]\n",
    "studentC = ['Ahmet','Turan',1998,[80,70,90]]\n",
    "\n",
    "\n",
    "\n",
    "\n",
    "print((studentA[0:]))\n",
    "print((studentB[0:]))\n",
    "print((studentC[0:]))\n",
    "\n",
    "\n",
    "\n",
    "\n",
    "  \n",
    "names = ['Ali','Yağmur','Hakan','Deniz']\n",
    "years = [1998, 2000, 1998, 1987]\n",
    "\n",
    "\n",
    "\n",
    "\n",
    "names[0:]=[\"Sena\"]\n",
    "\n",
    "\n",
    "# 15-  \"Deniz\" ismini listeden siliniz.\n",
    "\n",
    "\n",
    "# 16-  \"Ali\" listenin bir elemanı mıdır ?\n",
    "\n",
    "# 17-  Liste elemanlarını ters çevirin.\n",
    "\n",
    "# 18-  Liste elemanlarını alfabetik olarak sıralayınız.\n",
    "\n",
    "\n",
    "# 19-  years listesini rakamsal büyüklüğe göre sıralayınız.\n",
    "\n",
    "# 20-  str = \"Chevrolet,Dacia\" karakter dizisini listeye çeviriniz.\n",
    "\n",
    "\n",
    "# 21- years dizisinde kaç tane 1998 değeri vardır ?\n",
    "\n",
    "\n",
    "# 22- years dizisinin tüm elemanlarını siliniz.\n",
    "\n",
    "\n",
    "# 23- Kullanıcıdan alacağınız 3 tane marka bilgisini bir listede saklayınız.\n",
    "\n"
   ]
  },
  {
   "cell_type": "code",
   "execution_count": null,
   "metadata": {},
   "outputs": [],
   "source": []
  }
 ],
 "metadata": {
  "colab": {
   "provenance": []
  },
  "kernelspec": {
   "display_name": "Python 3",
   "language": "python",
   "name": "python3"
  },
  "language_info": {
   "codemirror_mode": {
    "name": "ipython",
    "version": 3
   },
   "file_extension": ".py",
   "mimetype": "text/x-python",
   "name": "python",
   "nbconvert_exporter": "python",
   "pygments_lexer": "ipython3",
   "version": "3.13.2"
  },
  "orig_nbformat": 4
 },
 "nbformat": 4,
 "nbformat_minor": 0
}
