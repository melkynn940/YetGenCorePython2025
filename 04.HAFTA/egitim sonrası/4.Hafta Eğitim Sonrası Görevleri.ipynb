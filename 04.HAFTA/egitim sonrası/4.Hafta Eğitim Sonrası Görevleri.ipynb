{
 "cells": [
  {
   "cell_type": "markdown",
   "metadata": {},
   "source": [
    "# Problem 1\n",
    "`ogrenciler` adında bir sözlük oluşturunuz. Kullanıcıdan döngü yardımıyla 3 öğrenci için veri girmesini isteyerek öğrencilerin sırasıyla okul numarası, isim, soy isim, telefon numarası ve doğum tarihi bilgilerini alınız. Aldığınız öğrenci bilgilerini yine aynı döngü yardımıyla `ogrenciler` adındaki sözlükte saklayınız. Daha sonra öğrenci bilgilerinin bulunduğu sözlük yapısını ekrana bastırınız.\n",
    "\n"
   ]
  },
  {
   "cell_type": "code",
   "execution_count": null,
   "metadata": {},
   "outputs": [
    {
     "name": "stdout",
     "output_type": "stream",
     "text": [
      "1.öğrenci bilgilerini giriniz:\n",
      "\n",
      "Öğrenci Bilgileri:\n",
      "\n",
      "Okul No: 123\n",
      "İsim: melek\n",
      "Soyisim: köymen\n",
      "Telefon: 123456789\n",
      "Doğum Tarihi: 19.03.2006\n",
      "2.öğrenci bilgilerini giriniz:\n",
      "\n",
      "Öğrenci Bilgileri:\n",
      "\n",
      "Okul No: 123\n",
      "\n",
      "Okul No: 456\n",
      "İsim: tuana\n",
      "Soyisim: yılmaz\n",
      "Telefon: 5678902341\n",
      "Doğum Tarihi: 15.01.2007\n",
      "3.öğrenci bilgilerini giriniz:\n",
      "\n",
      "Öğrenci Bilgileri:\n",
      "\n",
      "Okul No: 123\n",
      "\n",
      "Okul No: 456\n",
      "\n",
      "Okul No: 340\n",
      "İsim: sarp\n",
      "Soyisim: demir\n",
      "Telefon: 8972451287\n",
      "Doğum Tarihi: 10.06.2003\n"
     ]
    }
   ],
   "source": [
    "ogrenciler={}\n",
    "for i in range(3):\n",
    "    print(f\"{i+1}.öğrenci bilgilerini giriniz:\")\n",
    "    okulNo=input(\"Okul Numarası:\")\n",
    "    isim=input(\"İsim:\")\n",
    "    soyisim=input(\"Soyisim:\")\n",
    "    telefon=input(\"Telefon Numarası:\")\n",
    "    dogumTarihi=input(\"Doğum tarihi giriniz:\")\n",
    "    ogrenciler[okulNo]={\n",
    "        \"İsim\": isim,\n",
    "        \"Soyisim\":soyisim,\n",
    "        \"Telefon\":telefon,\n",
    "        \"Doğum Tarihi\":dogumTarihi,\n",
    "    }\n",
    "    print(\"/nÖğrenci Bilgileri:\")\n",
    "    for okulNo,bilgiler in ogrenciler.items():\n",
    "         print(f\"\\nOkul No: {okulNo}\")\n",
    "    for key, value in bilgiler.items():\n",
    "        print(f\"{key}: {value}\")\n",
    "        \n",
    "\n"
   ]
  },
  {
   "cell_type": "markdown",
   "metadata": {},
   "source": [
    "# Problem 2\n",
    "\n",
    "### a - Biraz ısınarak başlayalım!\n",
    "\n",
    "```\n",
    "numbers = [5,10,10,15,15,15,20,20,20,20]\n",
    "```\n",
    "\n",
    "Yukarıda `numbers` adında 10 elemanlı bir liste verilmiştir. Bu listenin her elemanını kontrol eden ve tekrar eden elemanları bir kez olacak şekilde başka bir listeye kopyalayan bir program yazınız. Son olarak oluşturduğunuz listeyi ekrana bastırınız.\n",
    "\n",
    "\n",
    "\n",
    "\n",
    "```\n",
    ">Output\n",
    "[5, 10, 15, 20]\n",
    "```\n"
   ]
  },
  {
   "cell_type": "code",
   "execution_count": 4,
   "metadata": {},
   "outputs": [
    {
     "name": "stdout",
     "output_type": "stream",
     "text": [
      "[5, 10, 15, 20]\n"
     ]
    }
   ],
   "source": [
    "numbers = [5, 10, 10, 15, 15, 15, 20, 20, 20, 20]\n",
    "unique_numbers = list(dict.fromkeys(numbers))\n",
    "\n",
    "print(unique_numbers)"
   ]
  },
  {
   "cell_type": "markdown",
   "metadata": {},
   "source": [
    "### 🌶️ b) Hadi işi biraz daha zorlaştıralım! \n",
    "\n",
    "\n",
    "Şimdiyse senden `numbers` isimli listedeki tekrar eden elemanları `repeatNumbers` adındaki listeye; tekrar etmeyen elemanları `uniqueNumbers`adındaki listeye kopyalayan yazmanı ve listeleri ekrana bastırmanı bekliyoruz\n",
    "\n",
    "```\n",
    ">Output\n",
    "Tekrar Eden Elemanlar: [10, 10, 15, 15, 15, 20, 20, 20, 20]\n",
    "Tekrar Etmeyen Elemanlar: [5]\n",
    "```"
   ]
  },
  {
   "cell_type": "code",
   "execution_count": 9,
   "metadata": {},
   "outputs": [
    {
     "name": "stdout",
     "output_type": "stream",
     "text": [
      "Tekrar Eden Elemanlar: [10, 10, 15, 15, 15, 20, 20, 20, 20]\n",
      "Tekrar Etmeyen Elemanlar: [5]\n"
     ]
    }
   ],
   "source": [
    "numbers = [5, 10, 10, 15, 15, 15, 20, 20, 20, 20]\n",
    "\n",
    "repeatNumbers = []\n",
    "uniqueNumbers = []\n",
    "\n",
    "for num in numbers:\n",
    "    if numbers.count(num) > 1:\n",
    "        repeatNumbers.append(num)\n",
    "    else:\n",
    "        uniqueNumbers.append(num)\n",
    "\n",
    "print(\"Tekrar Eden Elemanlar:\", repeatNumbers)\n",
    "print(\"Tekrar Etmeyen Elemanlar:\", uniqueNumbers)\n"
   ]
  },
  {
   "cell_type": "markdown",
   "metadata": {},
   "source": [
    "# Problem 3\n",
    "sn1 = {1,2,3,4,5}\n",
    "\n",
    "sn2 = {4,5,6,7,8}\n",
    "\n",
    " Verilen 2 adet küme için kesişimlerini, farklarını ve birleşimlerini bulunuz. "
   ]
  },
  {
   "cell_type": "code",
   "execution_count": 10,
   "metadata": {},
   "outputs": [
    {
     "name": "stdout",
     "output_type": "stream",
     "text": [
      "Kesişim= {4, 5}\n",
      "Farkları: {1, 2, 3}\n",
      "Birleşimleri: {1, 2, 3, 4, 5, 6, 7, 8}\n"
     ]
    }
   ],
   "source": [
    "sn1={1,2,3,4,5}\n",
    "sn2={4,5,6,7,8}\n",
    "print(\"Kesişim=\",sn1.intersection(sn2))\n",
    "print(\"Farkları:\",(sn1-sn2))\n",
    "print(\"Birleşimleri:\",(sn1.union(sn2)))\n"
   ]
  },
  {
   "cell_type": "markdown",
   "metadata": {},
   "source": [
    "# Problem 4\n",
    "\n",
    "Buradaki işlemlerimizin tamamı stringler içindir. Aşağıda verilecek olan metodlar için kendinizin örnek yaratması gerekmektedir. \n",
    "\n",
    "Örneğin `upper` için `string` değişkeni oluştururken` k = \"BAC\"` şeklinde oluşturmayınız. Bunun yerine k değişkenini `k = \"bac`\" şeklinde oluşturmanız `upper` metodundaki değişimi görebilmeniz için daha iyi olacaktır.\n",
    "\n",
    "Bütün metodlardaki değişimin gözle görülür şekilde değişimi beklenmektedir.\n",
    "\n",
    "\n",
    "1- capitalize(), lower(), upper(), swapcase(), title(), replace()\n",
    "\n",
    "2- endswith(), startswith(), find(), index(), count()\n",
    "\n",
    "3- split(), strip(), join(), islower(), isalpha(), isdigit()\n",
    "\n",
    "\n",
    "Yukarıdaki `string` metodlarındaki değişimleri görebildiğimiz bir program yazınız.\n"
   ]
  },
  {
   "cell_type": "code",
   "execution_count": 27,
   "metadata": {},
   "outputs": [
    {
     "name": "stdout",
     "output_type": "stream",
     "text": [
      "Melek \n",
      "melek \n",
      "MELEK \n",
      "MeLEk \n",
      "Melek \n",
      "ayşe \n",
      "\n",
      "\n",
      "True\n",
      "True\n",
      "0\n",
      "6\n",
      "2\n",
      "\n",
      "\n",
      "['  Python', 'Java', 'C++  ']\n",
      "Python,Java,C++\n",
      "Python-Java-C++\n",
      "False\n",
      "False\n",
      "True\n"
     ]
    }
   ],
   "source": [
    "k=\"mEleK \"\n",
    "print(k.capitalize())\n",
    "print(k.lower())\n",
    "print(k.upper())\n",
    "print(k.swapcase())\n",
    "print(k.title())\n",
    "print(k.replace(\"mEleK\",\"ayşe\"))\n",
    "print(\"\\n\")\n",
    "l=\"Hello World\"\n",
    "print(l.endswith(\"World\"))\n",
    "print(l.startswith(\"Hello\"))\n",
    "print(l.find(\"Hello\"))\n",
    "print(l.index(\"World\"))\n",
    "print(l.count(\"o\"))\n",
    "print(\"\\n\")\n",
    "m = \"  Python,Java,C++  \"\n",
    "print(m.split(\",\")) \n",
    "print(m.strip())  \n",
    "print(\"-\".join([\"Python\", \"Java\", \"C++\"])) \n",
    "print(m.islower())  \n",
    "print(m.isalpha())  \n",
    "print(\"12345\".isdigit())\n",
    "\n"
   ]
  }
 ],
 "metadata": {
  "kernelspec": {
   "display_name": "Python 3",
   "language": "python",
   "name": "python3"
  },
  "language_info": {
   "codemirror_mode": {
    "name": "ipython",
    "version": 3
   },
   "file_extension": ".py",
   "mimetype": "text/x-python",
   "name": "python",
   "nbconvert_exporter": "python",
   "pygments_lexer": "ipython3",
   "version": "3.13.2"
  },
  "orig_nbformat": 4
 },
 "nbformat": 4,
 "nbformat_minor": 2
}
