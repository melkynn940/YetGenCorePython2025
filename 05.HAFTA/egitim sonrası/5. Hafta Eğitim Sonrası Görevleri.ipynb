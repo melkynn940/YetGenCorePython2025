{
 "cells": [
  {
   "cell_type": "markdown",
   "metadata": {
    "id": "Rm1DKmXZM-Ja"
   },
   "source": [
    "# Problem 1\n",
    "\n",
    "Fizikte, bir nesnenin sabit ivmeyle hareket ederken son hızını \n",
    "(veya hızını) bulmak için aşağıdaki denklem kullanılabilir:\n",
    "```\n",
    "vf = vi + at\n",
    "burada:\n",
    "vf= son hız\n",
    "vi= ilk hız\n",
    "a= hızlanma\n",
    "t= zaman\n",
    "```\n",
    "İlk hız, ivme ve zaman verildiğinde, son hızı döndürecek bir fonksiyon yazın."
   ]
  },
  {
   "cell_type": "code",
   "execution_count": 6,
   "metadata": {
    "id": "vWrjJiV0M-Jk"
   },
   "outputs": [
    {
     "name": "stdout",
     "output_type": "stream",
     "text": [
      "100\n"
     ]
    }
   ],
   "source": [
    "def son_hız(vi,a,t):\n",
    "    sonHız=vi+a*t\n",
    "    print(sonHız)\n",
    "son_hız(90,5,2)"
   ]
  },
  {
   "cell_type": "markdown",
   "metadata": {
    "id": "uAHpyY5HM-Jq"
   },
   "source": [
    "# Problem 2\n",
    "\n",
    "1'den 1000'e kadar olan sayılardan mükemmel sayı olanları ekrana yazdırın. Bunun için bir sayının mükemmel olup olmadığını dönen bir tane fonksiyon yazın.\n",
    "\n",
    "Bir sayının bölenlerinin toplamı kendine eşitse bu sayı mükemmel bir sayıdır. Örnek olarak 6 mükemmel bir sayıdır (1 + 2 + 3 = 6)."
   ]
  },
  {
   "cell_type": "code",
   "execution_count": 1,
   "metadata": {
    "id": "yrY4Y5ncM-Jr"
   },
   "outputs": [
    {
     "name": "stdout",
     "output_type": "stream",
     "text": [
      "Mükemmel Sayılar: [6, 28, 496]\n"
     ]
    }
   ],
   "source": [
    "def mukemmel_mi(n):\n",
    "    bolenler= [i for i in range(1, n) if n % i == 0]  \n",
    "    return sum(bolenler) == n  \n",
    "\n",
    "# 1'den 1000'e kadar olan mükemmel sayıları bul ve yazdır\n",
    "mukemmel_sayılar= [num for num in range(1, 1001) if mukemmel_mi(num)]\n",
    "print(\"Mükemmel Sayılar:\", mukemmel_sayılar)"
   ]
  },
  {
   "cell_type": "markdown",
   "metadata": {
    "id": "C2-XwlJtM-Jr"
   },
   "source": [
    "# Problem 3\n",
    "\n",
    "1'den 100'e kadar olan sayılardan pisagor üçgeni oluşturanları ekrana yazdıran bir fonksiyon yazın.(a <= 100,b <= 100)\n"
   ]
  },
  {
   "cell_type": "code",
   "execution_count": 2,
   "metadata": {
    "id": "BMNy4xi-M-Js"
   },
   "outputs": [
    {
     "name": "stdout",
     "output_type": "stream",
     "text": [
      "Pisagor Üçgenleri: [(3, 4, 5), (5, 12, 13), (6, 8, 10), (7, 24, 25), (8, 15, 17), (9, 12, 15), (9, 40, 41), (10, 24, 26), (11, 60, 61), (12, 16, 20), (12, 35, 37), (13, 84, 85), (14, 48, 50), (15, 20, 25), (15, 36, 39), (16, 30, 34), (16, 63, 65), (18, 24, 30), (18, 80, 82), (20, 21, 29), (20, 48, 52), (20, 99, 101), (21, 28, 35), (21, 72, 75), (24, 32, 40), (24, 45, 51), (24, 70, 74), (25, 60, 65), (27, 36, 45), (28, 45, 53), (28, 96, 100), (30, 40, 50), (30, 72, 78), (32, 60, 68), (33, 44, 55), (33, 56, 65), (35, 84, 91), (36, 48, 60), (36, 77, 85), (39, 52, 65), (39, 80, 89), (40, 42, 58), (40, 75, 85), (40, 96, 104), (42, 56, 70), (45, 60, 75), (48, 55, 73), (48, 64, 80), (48, 90, 102), (51, 68, 85), (54, 72, 90), (56, 90, 106), (57, 76, 95), (60, 63, 87), (60, 80, 100), (60, 91, 109), (63, 84, 105), (65, 72, 97), (66, 88, 110), (69, 92, 115), (72, 96, 120), (75, 100, 125), (80, 84, 116)]\n"
     ]
    }
   ],
   "source": [
    "def pisagorUcgeniBul():\n",
    "    sayılar = [(a, b, c) for a in range(1, 101) \n",
    "                          for b in range(a, 101) \n",
    "                          for c in range(b, 1001) \n",
    "                          if a**2 + b**2 == c**2]\n",
    "    return sayılar\n",
    "pisagor_ucgeni = pisagorUcgeniBul()\n",
    "print(\"Pisagor Üçgenleri:\", pisagor_ucgeni)"
   ]
  },
  {
   "cell_type": "markdown",
   "metadata": {
    "id": "oPfmWi4jM-Js"
   },
   "source": [
    "# Problem 4\n",
    "\n",
    "Bir duvar boyamaya karar verdiniz. Boya kutusunun üzerindeki talimatta, 1 kutu boyanın 5 metrekarelik bir duvarı boyayabileceği yazıyor. Rastgele bir duvar yüksekliği ve genişliği verildiğinde, kaç kutu boya satın almanız gerektiğini hesaplayın.\n",
    "\n",
    "kutu sayısı = (duvar yüksekliği * duvar genişliği) ÷ kutu başına kaplama.\n",
    "\n",
    "örneğin Yükseklik = 2, Genişlik = 4, Kaplama = 5\n",
    "\n",
    "kutu sayısı = (2 * 4) ÷ 5 = 1.6\n",
    "\n",
    "Ancak bir kutu boyanın 0,6'sını satın alamayacağınız için, sonuç 2 kutuya yuvarlanmalıdır .\n"
   ]
  },
  {
   "cell_type": "code",
   "execution_count": 6,
   "metadata": {
    "id": "0zuyzSp5M-Jt"
   },
   "outputs": [
    {
     "name": "stdout",
     "output_type": "stream",
     "text": [
      "Gerekli boya kutusu sayısı: 5\n"
     ]
    }
   ],
   "source": [
    "def boya_kutusu(b,g):\n",
    "    alan=b*g\n",
    "    kutu_sayısı = round(alan / 5) \n",
    "    return kutu_sayısı\n",
    "kutu_sayisi = boya_kutusu(4,6)\n",
    "print(f\"Gerekli boya kutusu sayısı: {kutu_sayisi}\")"
   ]
  },
  {
   "cell_type": "markdown",
   "metadata": {
    "id": "pe6TJuBBM-Ju"
   },
   "source": [
    "# Problem 5\n",
    "\n",
    "Bir kelimedeki ünlü ve ünsüz harfleri sayan bir fonksiyon yazınız."
   ]
  },
  {
   "cell_type": "code",
   "execution_count": 13,
   "metadata": {
    "id": "LJ0opjiLM-Ju"
   },
   "outputs": [
    {
     "name": "stdout",
     "output_type": "stream",
     "text": [
      "Kelime: python, Ünlü harf sayısı: 1, Ünsüz harf sayısı: 5\n"
     ]
    }
   ],
   "source": [
    "def unluleriSay(kelime):\n",
    "    unluler = \"aeiouAEIOU\"\n",
    "    unlu_say= sum(1 for harf in kelime if harf in unluler)\n",
    "    unsuz_say = sum(1 for harf in kelime if harf not in unluler)\n",
    "    return unlu_say, unsuz_say\n",
    "kelime=\"python\"\n",
    "unluler, unsuzler = unluleriSay(kelime)\n",
    "print(f\"Kelime: {kelime}, Ünlü harf sayısı: {unluler}, Ünsüz harf sayısı: {unsuzler}\")\n"
   ]
  },
  {
   "cell_type": "markdown",
   "metadata": {
    "id": "Lfls2YTXM-Jv"
   },
   "source": [
    "# Problem 6\n",
    "\n",
    "Verilen bir listeden çift sayıları yazdıran bir fonksiyon yazınız.\n"
   ]
  },
  {
   "cell_type": "code",
   "execution_count": 14,
   "metadata": {
    "id": "qUwsL20IM-Jv"
   },
   "outputs": [
    {
     "name": "stdout",
     "output_type": "stream",
     "text": [
      "Çift sayılar: [2, 4, 6, 8, 10]\n"
     ]
    }
   ],
   "source": [
    "def ciftSayılar(lst):\n",
    "    cift_sayılar = [num for num in lst if num % 2 == 0]\n",
    "    print(\"Çift sayılar:\", cift_sayılar)\n",
    "sayi_listesi = [1, 2, 3, 4, 5, 6, 7, 8, 9, 10]\n",
    "ciftSayılar(sayi_listesi)"
   ]
  },
  {
   "cell_type": "markdown",
   "metadata": {
    "id": "IPp724iIM-Jy"
   },
   "source": [
    "# Problem 7\n",
    "\n",
    "0'dan 10'a kadar olan sayıların toplamını hesaplayan özyinelemeli (Recursive Function) bir fonksiyon oluşturan bir fonksiyon yazınız.\n",
    "\n",
    "Özyinelemeli (Recursive Function) bir işlev, kendini tekrar tekrar çağıran bir işlevdir."
   ]
  },
  {
   "cell_type": "code",
   "execution_count": 15,
   "metadata": {
    "id": "KFW6xhTJM-Jz"
   },
   "outputs": [
    {
     "name": "stdout",
     "output_type": "stream",
     "text": [
      "55\n"
     ]
    }
   ],
   "source": [
    "def topla(*x):\n",
    "    toplam=0\n",
    "    for i in x:\n",
    "        toplam+=i \n",
    "    print(toplam)\n",
    "topla(1,2,3,4,5,6,7,8,9,10)"
   ]
  }
 ],
 "metadata": {
  "colab": {
   "provenance": []
  },
  "kernelspec": {
   "display_name": "Python 3",
   "language": "python",
   "name": "python3"
  },
  "language_info": {
   "codemirror_mode": {
    "name": "ipython",
    "version": 3
   },
   "file_extension": ".py",
   "mimetype": "text/x-python",
   "name": "python",
   "nbconvert_exporter": "python",
   "pygments_lexer": "ipython3",
   "version": "3.13.2"
  },
  "orig_nbformat": 4
 },
 "nbformat": 4,
 "nbformat_minor": 0
}
