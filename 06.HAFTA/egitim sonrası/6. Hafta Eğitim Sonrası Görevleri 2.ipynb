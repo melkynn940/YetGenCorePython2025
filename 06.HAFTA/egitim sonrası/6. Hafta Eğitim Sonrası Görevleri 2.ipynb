{
 "cells": [
  {
   "cell_type": "markdown",
   "metadata": {
    "id": "unoTPlV_tJOm"
   },
   "source": [
    "# Problem 1 \n",
    " Bir sayının çift olup olmadığını sorgulayan bir fonksiyon yazın. Bu fonksiyon, eğer sayı çiftBir ise bu değeri dönsün. Ancak sayı tek sayı ise fonksiyon raise ile ValueError hatası oluştursun. Daha sonra, içinde çift ve tek sayılar bulunduran bir liste tanımlayın ve liste üzerinde gezinerek ekrana sadece çift sayıları bastırın."
   ]
  },
  {
   "cell_type": "code",
   "execution_count": 13,
   "metadata": {
    "id": "7oyBSeXptJOp"
   },
   "outputs": [
    {
     "name": "stdout",
     "output_type": "stream",
     "text": [
      "2\n",
      "4\n",
      "6\n",
      "8\n",
      "10\n"
     ]
    }
   ],
   "source": [
    "def cift_mi(sayi):\n",
    "    if sayi % 2 == 0:\n",
    "        return sayi\n",
    "    else:\n",
    "        raise ValueError\n",
    "\n",
    "sayi_listesi = [1, 2, 3, 4, 5, 6, 7, 8, 9, 10]\n",
    "\n",
    "for sayi in sayi_listesi:\n",
    "    try:\n",
    "        print(cift_mi(sayi))\n",
    "    except ValueError:\n",
    "        pass  \n"
   ]
  },
  {
   "cell_type": "markdown",
   "metadata": {
    "id": "CdfzJ2A9tJOq"
   },
   "source": [
    "# Problem 2\n",
    "\n",
    "2 YetGen lideri ders sırasında canları sıkılınca oyun oynamak isterler. Ancak hangi oyunu oynayacaklarına karar veremezler ve son olarak kendi oyunlarını yazmaya karar verirler.\n",
    "Liderlerimizin kodlamak istediği oyun kuralları şöyledir:\n",
    "- Oyunda random olarak 0 ile 100 arasında bir sayı tutulur.\n",
    "- Kullanıcıdan bilgisayarın tuttuğu sayıyı tahmin etmesi için bir sayı girmesini istenir.\n",
    "- Eğer kullanıcının girdiği sayı bulunması gereken sayıdan küçükse  tahmininizi yükseltin, büyükse tahmininizi düşürün şeklinde bir çıktı verilir.\n",
    "- Oyunun gerçeğe yakın olması için bilgisayarın çalışmasını simgelemek için 1 saniye bekleme süresi tanınır.\n",
    "- Kullanıcı 5 hakkı vardır. 5 hakkı da kullanıp sayıyı bulamazsa oyunu kaybeder."
   ]
  },
  {
   "cell_type": "code",
   "execution_count": 18,
   "metadata": {
    "id": "A1VEETgCtJOr"
   },
   "outputs": [
    {
     "name": "stdout",
     "output_type": "stream",
     "text": [
      "Tahmin Oyununa Hoş Geldiniz!\n",
      "0 ile 100 arasında bir sayı tuttum.\n",
      "5 tahmin hakkınız var. Başlayalım!\n",
      "Tahmin değerlendiriliyor...\n",
      "Tahmininizi düşürün.\n",
      "Tahmin değerlendiriliyor...\n",
      "Tahmininizi yükseltin.\n",
      "Tahmin değerlendiriliyor...\n",
      "Tahmininizi düşürün.\n",
      "Tahmin değerlendiriliyor...\n",
      "Tahmininizi yükseltin.\n",
      "Tahmin değerlendiriliyor...\n",
      "Tahmininizi düşürün.\n",
      "Üzgünüm, tahmin hakkınız bitti. Doğru sayı: 35\n"
     ]
    }
   ],
   "source": [
    "import random\n",
    "import time\n",
    "\n",
    "def sayi_tahmin_oyunu():\n",
    "    print(\"Tahmin Oyununa Hoş Geldiniz!\")\n",
    "    print(\"0 ile 100 arasında bir sayı tuttum.\")\n",
    "    print(\"5 tahmin hakkınız var. Başlayalım!\")\n",
    "\n",
    "    gizli_sayi = random.randint(0, 100)\n",
    "    tahmin_hakki = 5\n",
    "\n",
    "    while tahmin_hakki > 0:\n",
    "        tahmin = int(input(\"Tahmininizi girin: \"))\n",
    "        print(\"Tahmin değerlendiriliyor...\")\n",
    "        time.sleep(1)\n",
    "\n",
    "        if tahmin < gizli_sayi:\n",
    "            tahmin_hakki -= 1\n",
    "            print(f\"Tahmininizi yükseltin.\")\n",
    "        elif tahmin > gizli_sayi:\n",
    "            tahmin_hakki -= 1\n",
    "            print(f\"Tahmininizi düşürün.\")\n",
    "        else:\n",
    "            print(f\"Tebrikler! Sayıyı doğru tahmin ettiniz: {gizli_sayi}\")\n",
    "            return\n",
    "\n",
    "    print(f\"Üzgünüm, tahmin hakkınız bitti. Doğru sayı: {gizli_sayi}\")\n",
    "\n",
    "sayi_tahmin_oyunu()"
   ]
  }
 ],
 "metadata": {
  "colab": {
   "provenance": []
  },
  "kernelspec": {
   "display_name": "Python 3",
   "language": "python",
   "name": "python3"
  },
  "language_info": {
   "codemirror_mode": {
    "name": "ipython",
    "version": 3
   },
   "file_extension": ".py",
   "mimetype": "text/x-python",
   "name": "python",
   "nbconvert_exporter": "python",
   "pygments_lexer": "ipython3",
   "version": "3.13.2"
  },
  "orig_nbformat": 4,
  "vscode": {
   "interpreter": {
    "hash": "5026d2d6e7aaaaba093def813beadff083d8733e4a511af01735cbabd156995d"
   }
  }
 },
 "nbformat": 4,
 "nbformat_minor": 0
}
