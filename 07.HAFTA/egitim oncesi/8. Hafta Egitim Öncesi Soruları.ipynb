{
 "cells": [
  {
   "cell_type": "markdown",
   "metadata": {
    "id": "Pzh44PAE5H61"
   },
   "source": [
    "# Problem 1 \n",
    "Kullanıcıdan aldığı ürün bilgisini (ad, fiyat) urunler.txt dosyasına kayıt eden fonksiyonu yazınız."
   ]
  },
  {
   "cell_type": "code",
   "execution_count": 3,
   "metadata": {},
   "outputs": [],
   "source": [
    "def urun_kaydet():\n",
    "    with open(\"urunler.txt\", \"a\", encoding=\"utf-8\") as dosya:\n",
    "        while True:\n",
    "            ad = input(\"Ürün adını girin (çıkmak için 'q' tuşlayın): \")\n",
    "            if ad.lower() == 'q':\n",
    "                print(\"Kayıt işlemi sonlandırıldı.\")\n",
    "                break\n",
    "            fiyat = input(\"Ürün fiyatını girin: \")\n",
    "            dosya.write(f\"{ad},{fiyat}\\n\")\n",
    "            print(f\"{ad} ürünü başarıyla kaydedildi.\")\n",
    "\n"
   ]
  },
  {
   "cell_type": "markdown",
   "metadata": {
    "id": "Lw7xy19D5H66"
   },
   "source": [
    "# Problem 2\n",
    "1.problemde oluşturulan text dosyası içerisinde kullanıcıdan alacağımız eski kelime isimli değişkene atadığımız \n",
    "ve değiştirilmesini istediğimiz kelimemizi yerini alıcak olan yeni kelime isimli değişkene atayın. Belirlenen kelimeleri text dosyasında değiştiren fonksiyonu yazınız."
   ]
  },
  {
   "cell_type": "code",
   "execution_count": 5,
   "metadata": {
    "id": "jDlym3ko5H66"
   },
   "outputs": [],
   "source": [
    "def kelime_degistir():\n",
    "    eski_kelime = input(\"Değiştirmek istediğiniz kelimeyi girin: \")\n",
    "    yeni_kelime = input(\"Yeni kelimeyi girin: \")\n",
    "\n",
    "    try:\n",
    "        with open(\"urunler.txt\", \"r\", encoding=\"utf-8\") as dosya:\n",
    "            icerik = dosya.read()\n",
    "\n",
    "        yeni_icerik = icerik.replace(eski_kelime, yeni_kelime)\n",
    "\n",
    "        with open(\"urunler.txt\", \"w\", encoding=\"utf-8\") as dosya:\n",
    "            dosya.write(yeni_icerik)\n",
    "\n",
    "    except FileNotFoundError:\n",
    "        print(\"urunler.txt dosyası bulunamadı.\")\n"
   ]
  },
  {
   "cell_type": "markdown",
   "metadata": {
    "id": "3aSYk4FF5H67"
   },
   "source": [
    "# Problem 3\n",
    "Vehicle sınıfının tüm değişkenlerini ve yöntemlerini devralacak bir alt sınıf olarak Bus sınıfı oluşturunuz.\n",
    "\n",
    "\n",
    "\n",
    "```\n",
    "Output\n",
    "> Name: School Volvo Speed: 180 Mileage: 12\n",
    "```\n"
   ]
  },
  {
   "cell_type": "code",
   "execution_count": 6,
   "metadata": {
    "id": "PwCI6Xkb5H68"
   },
   "outputs": [
    {
     "name": "stdout",
     "output_type": "stream",
     "text": [
      "Name: School Volvo Speed: 180 Mileage: 12\n"
     ]
    }
   ],
   "source": [
    "class Vehicle:\n",
    "    def __init__(self, name, speed, mileage):\n",
    "        self.name = name\n",
    "        self.speed = speed\n",
    "        self.mileage = mileage\n",
    "\n",
    "class Bus(Vehicle):\n",
    "    pass  # Tüm özellikleri Vehicle'dan alacağı için ekleme yapmamıza gerek yok\n",
    "\n",
    "# Örnek kullanım:\n",
    "school_bus = Bus(\"School Volvo\", 180, 12)\n",
    "print(f\"Name: {school_bus.name} Speed: {school_bus.speed} Mileage: {school_bus.mileage}\")\n"
   ]
  }
 ],
 "metadata": {
  "colab": {
   "provenance": []
  },
  "kernelspec": {
   "display_name": "Python 3",
   "language": "python",
   "name": "python3"
  },
  "language_info": {
   "codemirror_mode": {
    "name": "ipython",
    "version": 3
   },
   "file_extension": ".py",
   "mimetype": "text/x-python",
   "name": "python",
   "nbconvert_exporter": "python",
   "pygments_lexer": "ipython3",
   "version": "3.13.2"
  },
  "orig_nbformat": 4,
  "vscode": {
   "interpreter": {
    "hash": "5026d2d6e7aaaaba093def813beadff083d8733e4a511af01735cbabd156995d"
   }
  }
 },
 "nbformat": 4,
 "nbformat_minor": 0
}
