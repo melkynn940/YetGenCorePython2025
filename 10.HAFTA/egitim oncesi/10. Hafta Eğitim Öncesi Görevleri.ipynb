{
 "cells": [
  {
   "attachments": {},
   "cell_type": "markdown",
   "metadata": {},
   "source": [
    "# Problem 1"
   ]
  },
  {
   "cell_type": "code",
   "execution_count": null,
   "metadata": {},
   "outputs": [],
   "source": [
    "# 1 - numpy kütüphanesini import edin\n",
    "\n",
    "# 2 - 0 ile 10 arasında 5 sayıdan oluşan matris üretin\n",
    "\n",
    "# 3 - matris'in boyutunu öğrenin\n",
    "\n",
    "# 4 - matris'i yeniden boyutlandırın\n",
    "\n",
    "# 5 - matris'in boyut sayısını öğrenin\n"
   ]
  },
  {
   "cell_type": "code",
   "execution_count": 18,
   "metadata": {},
   "outputs": [
    {
     "name": "stdout",
     "output_type": "stream",
     "text": [
      "Collecting numpy\n",
      "  Downloading numpy-2.2.5-cp313-cp313-macosx_14_0_arm64.whl.metadata (62 kB)\n",
      "Downloading numpy-2.2.5-cp313-cp313-macosx_14_0_arm64.whl (5.1 MB)\n",
      "\u001b[2K   \u001b[90m━━━━━━━━━━━━━━━━━━━━━━━━━━━━━━━━━━━━━━━━\u001b[0m \u001b[32m5.1/5.1 MB\u001b[0m \u001b[31m1.9 MB/s\u001b[0m eta \u001b[36m0:00:00\u001b[0ma \u001b[36m0:00:01\u001b[0m\n",
      "\u001b[?25hInstalling collected packages: numpy\n",
      "Successfully installed numpy-2.2.5\n",
      "\n",
      "\u001b[1m[\u001b[0m\u001b[34;49mnotice\u001b[0m\u001b[1;39;49m]\u001b[0m\u001b[39;49m A new release of pip is available: \u001b[0m\u001b[31;49m24.3.1\u001b[0m\u001b[39;49m -> \u001b[0m\u001b[32;49m25.1\u001b[0m\n",
      "\u001b[1m[\u001b[0m\u001b[34;49mnotice\u001b[0m\u001b[1;39;49m]\u001b[0m\u001b[39;49m To update, run: \u001b[0m\u001b[32;49mpip3 install --upgrade pip\u001b[0m\n",
      "Note: you may need to restart the kernel to use updated packages.\n"
     ]
    }
   ],
   "source": [
    "pip install numpy \n"
   ]
  },
  {
   "cell_type": "code",
   "execution_count": 19,
   "metadata": {},
   "outputs": [
    {
     "name": "stdout",
     "output_type": "stream",
     "text": [
      "[9 9 2 4 1]\n",
      "(5,)\n",
      "[[9]\n",
      " [9]\n",
      " [2]\n",
      " [4]\n",
      " [1]]\n",
      "2\n"
     ]
    }
   ],
   "source": [
    "\n",
    "import numpy as np\n",
    "\n",
    "matris = np.random.randint(0, 10, size=5)\n",
    "print(matris)\n",
    "\n",
    "print(matris.shape)\n",
    "\n",
    "matris = matris.reshape(5, 1)  \n",
    "print(matris)\n",
    "\n",
    "print(matris.ndim)\n"
   ]
  },
  {
   "attachments": {},
   "cell_type": "markdown",
   "metadata": {},
   "source": [
    "# Problem 2"
   ]
  },
  {
   "cell_type": "code",
   "execution_count": null,
   "metadata": {},
   "outputs": [],
   "source": [
    "# 1 - 0 ile 10 arasında bulunan tek sayılardan oluşan matris üretin\n",
    "\n",
    "# 2 - Oluşturduğunuz matrisi parçalayın\n",
    "\n",
    "# 3 - Parçalanmış matrisleri birleştirin\n"
   ]
  },
  {
   "cell_type": "code",
   "execution_count": 20,
   "metadata": {},
   "outputs": [
    {
     "name": "stdout",
     "output_type": "stream",
     "text": [
      "Matris:\n",
      " [[1 3 5 7 9]]\n",
      "Matris 1:\n",
      " [[1 3]]\n",
      "Matris 2:\n",
      " [[5 7 9]]\n",
      "Birleşmiş Matris:\n",
      " [[1 3 5 7 9]]\n"
     ]
    }
   ],
   "source": [
    "import numpy as np\n",
    "\n",
    "tek_sayilar = np.arange(1, 10, 2)  \n",
    "\n",
    "matris = tek_sayilar.reshape(1, 5)  \n",
    "print(\"Matris:\\n\", matris)\n",
    "matris1, matris2 = np.hsplit(matris, [2])  \n",
    "\n",
    "print(\"Matris 1:\\n\", matris1)\n",
    "print(\"Matris 2:\\n\", matris2)\n",
    "birlesmis_matris = np.hstack((matris1, matris2))\n",
    "\n",
    "print(\"Birleşmiş Matris:\\n\", birlesmis_matris)\n",
    "\n"
   ]
  },
  {
   "attachments": {},
   "cell_type": "markdown",
   "metadata": {},
   "source": [
    "# Problem 3"
   ]
  },
  {
   "cell_type": "code",
   "execution_count": null,
   "metadata": {},
   "outputs": [],
   "source": [
    "# 1 - 5 ile 100 arasında ikişer ikişer atlayarak rastgele 10 sayıdan oluşan matris üretin\n",
    "\n",
    "# 2 - matris'in özelliklerini inceleyin\n"
   ]
  },
  {
   "cell_type": "code",
   "execution_count": 21,
   "metadata": {},
   "outputs": [
    {
     "name": "stdout",
     "output_type": "stream",
     "text": [
      "Matris: [47 95 65 71 79 99 15 11 45 91]\n",
      "Matrisin boyutu (shape): (10,)\n",
      "Matrisin boyut sayısı (ndim): 1\n",
      "Matrisin eleman sayısı (size): 10\n",
      "Matrisin veri tipi (dtype): int64\n"
     ]
    }
   ],
   "source": [
    "import numpy as np\n",
    "\n",
    "sayilar = np.arange(5, 101, 2)\n",
    "\n",
    "matris = np.random.choice(sayilar, 10, replace=False)\n",
    "print(\"Matris:\", matris)\n",
    "print(\"Matrisin boyutu (shape):\", matris.shape)\n",
    "print(\"Matrisin boyut sayısı (ndim):\", matris.ndim)\n",
    "print(\"Matrisin eleman sayısı (size):\", matris.size)\n",
    "print(\"Matrisin veri tipi (dtype):\", matris.dtype)\n",
    "\n",
    "\n"
   ]
  }
 ],
 "metadata": {
  "kernelspec": {
   "display_name": "Python 3",
   "language": "python",
   "name": "python3"
  },
  "language_info": {
   "codemirror_mode": {
    "name": "ipython",
    "version": 3
   },
   "file_extension": ".py",
   "mimetype": "text/x-python",
   "name": "python",
   "nbconvert_exporter": "python",
   "pygments_lexer": "ipython3",
   "version": "3.13.2"
  },
  "orig_nbformat": 4,
  "vscode": {
   "interpreter": {
    "hash": "5026d2d6e7aaaaba093def813beadff083d8733e4a511af01735cbabd156995d"
   }
  }
 },
 "nbformat": 4,
 "nbformat_minor": 2
}
