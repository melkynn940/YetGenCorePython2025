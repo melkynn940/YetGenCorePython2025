{
 "cells": [
  {
   "attachments": {},
   "cell_type": "markdown",
   "metadata": {},
   "source": [
    "# Problem 1 \n",
    "Seaborn kütüphanesi içerisinden Titanic veri setini tanımlayınız."
   ]
  },
  {
   "cell_type": "code",
   "execution_count": 1,
   "metadata": {},
   "outputs": [
    {
     "name": "stdout",
     "output_type": "stream",
     "text": [
      "sex\n",
      "male      577\n",
      "female    314\n",
      "Name: count, dtype: int64\n"
     ]
    }
   ],
   "source": [
    "import pandas as pd\n",
    "\n",
    "titanic = pd.read_csv(\"/Users/melekkoymen/Desktop/titanic.csv\")\n",
    "\n",
    "print(titanic['sex'].value_counts())\n"
   ]
  },
  {
   "attachments": {},
   "cell_type": "markdown",
   "metadata": {},
   "source": [
    "# Problem 2\n",
    "Titanic veri setindeki kadın ve erkek yolcuların sayısını bulunuz."
   ]
  },
  {
   "cell_type": "code",
   "execution_count": null,
   "metadata": {},
   "outputs": [
    {
     "name": "stdout",
     "output_type": "stream",
     "text": [
      "sex\n",
      "male      577\n",
      "female    314\n",
      "Name: count, dtype: int64\n"
     ]
    }
   ],
   "source": [
    "import pandas as pd\n",
    "\n",
    "titanic = pd.read_csv(\"/Users/melekkoymen/Desktop/titanic.csv\")\n",
    "\n",
    "gender_counts = titanic['sex'].value_counts()\n",
    "\n",
    "print(gender_counts)\n"
   ]
  },
  {
   "attachments": {},
   "cell_type": "markdown",
   "metadata": {},
   "source": [
    "# Problem 3\n",
    "Her bir sutuna ait unique değerlerin sayısını bulunuz."
   ]
  },
  {
   "cell_type": "code",
   "execution_count": 3,
   "metadata": {},
   "outputs": [
    {
     "name": "stdout",
     "output_type": "stream",
     "text": [
      "survived         2\n",
      "pclass           3\n",
      "sex              2\n",
      "age             88\n",
      "sibsp            7\n",
      "parch            7\n",
      "fare           248\n",
      "embarked         3\n",
      "class            3\n",
      "who              3\n",
      "adult_male       2\n",
      "deck             7\n",
      "embark_town      3\n",
      "alive            2\n",
      "alone            2\n",
      "dtype: int64\n"
     ]
    }
   ],
   "source": [
    "import pandas as pd\n",
    "\n",
    "# CSV'yi yükle (dosya yolu senin klasörüne göre ayarlanmalı)\n",
    "titanic = pd.read_csv(\"/Users/melekkoymen/Desktop/titanic.csv\")\n",
    "\n",
    "# Her sütundaki unique (benzersiz) değer sayısını bul\n",
    "unique_counts = titanic.nunique()\n",
    "\n",
    "print(unique_counts)\n"
   ]
  },
  {
   "attachments": {},
   "cell_type": "markdown",
   "metadata": {},
   "source": [
    "# Problem 4\n",
    "pclass değişkeninin unique değerlerinin sayısını bulunuz."
   ]
  },
  {
   "cell_type": "code",
   "execution_count": 5,
   "metadata": {},
   "outputs": [
    {
     "name": "stdout",
     "output_type": "stream",
     "text": [
      "'pclass' değişkeninde 3 farklı değer vardır.\n",
      "[3 1 2]\n"
     ]
    }
   ],
   "source": [
    "import pandas as pd\n",
    "\n",
    "# Titanic veri setini oku\n",
    "titanic = pd.read_csv(\"/Users/melekkoymen/Desktop/titanic.csv\")\n",
    "\n",
    "# pclass sütunundaki unique değerlerin sayısı\n",
    "unique_pclass_count = titanic['pclass'].nunique()\n",
    "\n",
    "print(f\"'pclass' değişkeninde {unique_pclass_count} farklı değer vardır.\")\n",
    "print(titanic['pclass'].unique())\n",
    "\n"
   ]
  },
  {
   "attachments": {},
   "cell_type": "markdown",
   "metadata": {},
   "source": [
    "# Problem 5\n",
    "pclass ve parch değişkenlerinin unique değerlerinin sayısını bulunuz"
   ]
  },
  {
   "cell_type": "code",
   "execution_count": 6,
   "metadata": {},
   "outputs": [
    {
     "name": "stdout",
     "output_type": "stream",
     "text": [
      "'pclass' değişkeninde 3 farklı değer vardır.\n",
      "'parch' değişkeninde 7 farklı değer vardır.\n"
     ]
    }
   ],
   "source": [
    "import pandas as pd\n",
    "\n",
    "# Titanic veri setini yükle\n",
    "titanic = pd.read_csv(\"/Users/melekkoymen/Desktop/titanic.csv\")\n",
    "\n",
    "# pclass ve parch sütunlarındaki unique değerlerin sayısı\n",
    "pclass_unique = titanic['pclass'].nunique()\n",
    "parch_unique = titanic['parch'].nunique()\n",
    "\n",
    "print(f\"'pclass' değişkeninde {pclass_unique} farklı değer vardır.\")\n",
    "print(f\"'parch' değişkeninde {parch_unique} farklı değer vardır.\")\n"
   ]
  },
  {
   "attachments": {},
   "cell_type": "markdown",
   "metadata": {},
   "source": [
    "# Problem 6\n",
    "embarked değişkeninin tipini kontrol ediniz. Tipini category olarak değiştiriniz ve tekrar kontrol ediniz."
   ]
  },
  {
   "cell_type": "code",
   "execution_count": 7,
   "metadata": {},
   "outputs": [
    {
     "name": "stdout",
     "output_type": "stream",
     "text": [
      "Değiştirmeden önce veri tipi: object\n",
      "Değiştirdikten sonra veri tipi: category\n"
     ]
    }
   ],
   "source": [
    "import pandas as pd\n",
    "\n",
    "# Titanic veri setini yükle\n",
    "titanic = pd.read_csv(\"/Users/melekkoymen/Desktop/titanic.csv\")\n",
    "\n",
    "# 1. embarked sütununun tipi nedir?\n",
    "print(\"Değiştirmeden önce veri tipi:\", titanic['embarked'].dtype)\n",
    "\n",
    "# 2. category tipine dönüştür\n",
    "titanic['embarked'] = titanic['embarked'].astype('category')\n",
    "\n",
    "# 3. Tekrar veri tipini kontrol et\n",
    "print(\"Değiştirdikten sonra veri tipi:\", titanic['embarked'].dtype)\n"
   ]
  },
  {
   "attachments": {},
   "cell_type": "markdown",
   "metadata": {},
   "source": [
    "# Problem 7\n",
    "embarked değeri C olanların tüm bilgilerini gösteriniz."
   ]
  },
  {
   "cell_type": "code",
   "execution_count": 8,
   "metadata": {},
   "outputs": [
    {
     "name": "stdout",
     "output_type": "stream",
     "text": [
      "     survived  pclass     sex   age  sibsp  parch     fare embarked   class  \\\n",
      "1           1       1  female  38.0      1      0  71.2833        C   First   \n",
      "9           1       2  female  14.0      1      0  30.0708        C  Second   \n",
      "19          1       3  female   NaN      0      0   7.2250        C   Third   \n",
      "26          0       3    male   NaN      0      0   7.2250        C   Third   \n",
      "30          0       1    male  40.0      0      0  27.7208        C   First   \n",
      "..        ...     ...     ...   ...    ...    ...      ...      ...     ...   \n",
      "866         1       2  female  27.0      1      0  13.8583        C  Second   \n",
      "874         1       2  female  28.0      1      0  24.0000        C  Second   \n",
      "875         1       3  female  15.0      0      0   7.2250        C   Third   \n",
      "879         1       1  female  56.0      0      1  83.1583        C   First   \n",
      "889         1       1    male  26.0      0      0  30.0000        C   First   \n",
      "\n",
      "       who  adult_male deck embark_town alive  alone  \n",
      "1    woman       False    C   Cherbourg   yes  False  \n",
      "9    child       False  NaN   Cherbourg   yes  False  \n",
      "19   woman       False  NaN   Cherbourg   yes   True  \n",
      "26     man        True  NaN   Cherbourg    no   True  \n",
      "30     man        True  NaN   Cherbourg    no   True  \n",
      "..     ...         ...  ...         ...   ...    ...  \n",
      "866  woman       False  NaN   Cherbourg   yes  False  \n",
      "874  woman       False  NaN   Cherbourg   yes  False  \n",
      "875  child       False  NaN   Cherbourg   yes   True  \n",
      "879  woman       False    C   Cherbourg   yes  False  \n",
      "889    man        True    C   Cherbourg   yes   True  \n",
      "\n",
      "[168 rows x 15 columns]\n"
     ]
    }
   ],
   "source": [
    "import pandas as pd\n",
    "\n",
    "# Veri setini yükle\n",
    "titanic = pd.read_csv(\"/Users/melekkoymen/Desktop/titanic.csv\")\n",
    "\n",
    "# embarked değeri \"C\" olan satırları filtrele\n",
    "embarked_c = titanic[titanic['embarked'] == 'C']\n",
    "\n",
    "# Sonuçları göster\n",
    "print(embarked_c)\n"
   ]
  },
  {
   "attachments": {},
   "cell_type": "markdown",
   "metadata": {},
   "source": [
    "# Problem 8\n",
    "embarked değeri S olmayanların tüm bilgelerini gösteriniz."
   ]
  },
  {
   "cell_type": "code",
   "execution_count": 9,
   "metadata": {},
   "outputs": [
    {
     "name": "stdout",
     "output_type": "stream",
     "text": [
      "     survived  pclass     sex   age  sibsp  parch     fare embarked   class  \\\n",
      "1           1       1  female  38.0      1      0  71.2833        C   First   \n",
      "5           0       3    male   NaN      0      0   8.4583        Q   Third   \n",
      "9           1       2  female  14.0      1      0  30.0708        C  Second   \n",
      "16          0       3    male   2.0      4      1  29.1250        Q   Third   \n",
      "19          1       3  female   NaN      0      0   7.2250        C   Third   \n",
      "..        ...     ...     ...   ...    ...    ...      ...      ...     ...   \n",
      "875         1       3  female  15.0      0      0   7.2250        C   Third   \n",
      "879         1       1  female  56.0      0      1  83.1583        C   First   \n",
      "885         0       3  female  39.0      0      5  29.1250        Q   Third   \n",
      "889         1       1    male  26.0      0      0  30.0000        C   First   \n",
      "890         0       3    male  32.0      0      0   7.7500        Q   Third   \n",
      "\n",
      "       who  adult_male deck embark_town alive  alone  \n",
      "1    woman       False    C   Cherbourg   yes  False  \n",
      "5      man        True  NaN  Queenstown    no   True  \n",
      "9    child       False  NaN   Cherbourg   yes  False  \n",
      "16   child       False  NaN  Queenstown    no  False  \n",
      "19   woman       False  NaN   Cherbourg   yes   True  \n",
      "..     ...         ...  ...         ...   ...    ...  \n",
      "875  child       False  NaN   Cherbourg   yes   True  \n",
      "879  woman       False    C   Cherbourg   yes  False  \n",
      "885  woman       False  NaN  Queenstown    no  False  \n",
      "889    man        True    C   Cherbourg   yes   True  \n",
      "890    man        True  NaN  Queenstown    no   True  \n",
      "\n",
      "[247 rows x 15 columns]\n"
     ]
    }
   ],
   "source": [
    "import pandas as pd\n",
    "\n",
    "# Veri setini yükle\n",
    "titanic = pd.read_csv(\"/Users/melekkoymen/Desktop/titanic.csv\")\n",
    "\n",
    "# embarked değeri S olmayan yolcular\n",
    "not_s_embarked = titanic[titanic['embarked'] != 'S']\n",
    "\n",
    "# Sonuçları göster\n",
    "print(not_s_embarked)\n"
   ]
  },
  {
   "attachments": {},
   "cell_type": "markdown",
   "metadata": {},
   "source": [
    "# Problem 9\n",
    "\n",
    "Yaşı 30 dan küçük ve kadın olan yolcuların tüm bilgilerini gösteriniz."
   ]
  },
  {
   "cell_type": "code",
   "execution_count": 10,
   "metadata": {},
   "outputs": [
    {
     "name": "stdout",
     "output_type": "stream",
     "text": [
      "     survived  pclass     sex   age  sibsp  parch     fare embarked   class  \\\n",
      "2           1       3  female  26.0      0      0   7.9250        S   Third   \n",
      "8           1       3  female  27.0      0      2  11.1333        S   Third   \n",
      "9           1       2  female  14.0      1      0  30.0708        C  Second   \n",
      "10          1       3  female   4.0      1      1  16.7000        S   Third   \n",
      "14          0       3  female  14.0      0      0   7.8542        S   Third   \n",
      "..        ...     ...     ...   ...    ...    ...      ...      ...     ...   \n",
      "874         1       2  female  28.0      1      0  24.0000        C  Second   \n",
      "875         1       3  female  15.0      0      0   7.2250        C   Third   \n",
      "880         1       2  female  25.0      0      1  26.0000        S  Second   \n",
      "882         0       3  female  22.0      0      0  10.5167        S   Third   \n",
      "887         1       1  female  19.0      0      0  30.0000        S   First   \n",
      "\n",
      "       who  adult_male deck  embark_town alive  alone  \n",
      "2    woman       False  NaN  Southampton   yes   True  \n",
      "8    woman       False  NaN  Southampton   yes  False  \n",
      "9    child       False  NaN    Cherbourg   yes  False  \n",
      "10   child       False    G  Southampton   yes  False  \n",
      "14   child       False  NaN  Southampton    no   True  \n",
      "..     ...         ...  ...          ...   ...    ...  \n",
      "874  woman       False  NaN    Cherbourg   yes  False  \n",
      "875  child       False  NaN    Cherbourg   yes   True  \n",
      "880  woman       False  NaN  Southampton   yes  False  \n",
      "882  woman       False  NaN  Southampton    no   True  \n",
      "887  woman       False    B  Southampton   yes   True  \n",
      "\n",
      "[147 rows x 15 columns]\n"
     ]
    }
   ],
   "source": [
    "import pandas as pd\n",
    "\n",
    "# Veri setini yükle\n",
    "titanic = pd.read_csv(\"/Users/melekkoymen/Desktop/titanic.csv\")\n",
    "\n",
    "# Yaşı 30'dan küçük ve kadın olan yolcular\n",
    "young_women = titanic[(titanic['age'] < 30) & (titanic['sex'] == 'female')]\n",
    "\n",
    "# Sonuçları göster\n",
    "print(young_women)\n"
   ]
  },
  {
   "attachments": {},
   "cell_type": "markdown",
   "metadata": {},
   "source": [
    "# Problem 10\n",
    "Fare'i 500'den büyük veya yaşı 70’den büyük yolcuların bilgilerini gösteriniz"
   ]
  },
  {
   "cell_type": "code",
   "execution_count": null,
   "metadata": {},
   "outputs": [],
   "source": [
    "import pandas as pd\n",
    "\n",
    "# Veri setini yükle\n",
    "titanic = pd.read_csv(\"/Users/melekkoymen/Desktop/titanic.csv\")\n",
    "\n",
    "# Fare > 500 veya Yaş > 70 olan yolcular\n",
    "high_fare_or_old = titanic[(titanic['fare'] > 500) | (titanic['age'] > 70)]\n",
    "\n",
    "# Sonuçları göster\n",
    "print(high_fare_or_old)\n"
   ]
  },
  {
   "attachments": {},
   "cell_type": "markdown",
   "metadata": {},
   "source": [
    "# Problem 11\n",
    "Her bir değişkendeki boş değerlerin toplamını bulunuz."
   ]
  },
  {
   "cell_type": "code",
   "execution_count": 11,
   "metadata": {},
   "outputs": [
    {
     "name": "stdout",
     "output_type": "stream",
     "text": [
      "survived         0\n",
      "pclass           0\n",
      "sex              0\n",
      "age            177\n",
      "sibsp            0\n",
      "parch            0\n",
      "fare             0\n",
      "embarked         2\n",
      "class            0\n",
      "who              0\n",
      "adult_male       0\n",
      "deck           688\n",
      "embark_town      2\n",
      "alive            0\n",
      "alone            0\n",
      "dtype: int64\n"
     ]
    }
   ],
   "source": [
    "import pandas as pd\n",
    "\n",
    "# Titanic veri setini oku\n",
    "titanic = pd.read_csv(\"/Users/melekkoymen/Desktop/titanic.csv\")\n",
    "\n",
    "# Her sütundaki boş (NaN) değerlerin toplamını bul\n",
    "missing_values = titanic.isnull().sum()\n",
    "\n",
    "# Sonuçları göster\n",
    "print(missing_values)\n"
   ]
  }
 ],
 "metadata": {
  "kernelspec": {
   "display_name": "Python 3",
   "language": "python",
   "name": "python3"
  },
  "language_info": {
   "codemirror_mode": {
    "name": "ipython",
    "version": 3
   },
   "file_extension": ".py",
   "mimetype": "text/x-python",
   "name": "python",
   "nbconvert_exporter": "python",
   "pygments_lexer": "ipython3",
   "version": "3.13.2"
  },
  "orig_nbformat": 4,
  "vscode": {
   "interpreter": {
    "hash": "5026d2d6e7aaaaba093def813beadff083d8733e4a511af01735cbabd156995d"
   }
  }
 },
 "nbformat": 4,
 "nbformat_minor": 2
}
